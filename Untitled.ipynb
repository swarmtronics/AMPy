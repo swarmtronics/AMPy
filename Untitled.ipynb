{
 "cells": [
  {
   "cell_type": "code",
   "execution_count": 6,
   "id": "dddb49ed",
   "metadata": {},
   "outputs": [
    {
     "name": "stdout",
     "output_type": "stream",
     "text": [
      "Found existing installation: ampy 0.1.2\n",
      "Uninstalling ampy-0.1.2:\n",
      "  Successfully uninstalled ampy-0.1.2\n"
     ]
    }
   ],
   "source": [
    "!pip uninstall -y ampy"
   ]
  },
  {
   "cell_type": "code",
   "execution_count": 7,
   "id": "ba815ea6",
   "metadata": {},
   "outputs": [],
   "source": [
    "from ampy.animation import *"
   ]
  },
  {
   "cell_type": "code",
   "execution_count": 9,
   "id": "d66fed47",
   "metadata": {},
   "outputs": [
    {
     "name": "stderr",
     "output_type": "stream",
     "text": [
      "100%|████████████████████████████████████████████████████████████████████████████████| 277/277 [01:19<00:00,  3.50it/s]\n"
     ]
    }
   ],
   "source": [
    "filename = 'test_video.mp4'\n",
    "\n",
    "video = get_video(filename, 120, 1800, 5)"
   ]
  },
  {
   "cell_type": "code",
   "execution_count": null,
   "id": "774a4e3a",
   "metadata": {},
   "outputs": [],
   "source": [
    "markers =  draw_markers("
   ]
  }
 ],
 "metadata": {
  "kernelspec": {
   "display_name": "Python 3 (ipykernel)",
   "language": "python",
   "name": "python3"
  },
  "language_info": {
   "codemirror_mode": {
    "name": "ipython",
    "version": 3
   },
   "file_extension": ".py",
   "mimetype": "text/x-python",
   "name": "python",
   "nbconvert_exporter": "python",
   "pygments_lexer": "ipython3",
   "version": "3.10.9"
  }
 },
 "nbformat": 4,
 "nbformat_minor": 5
}
