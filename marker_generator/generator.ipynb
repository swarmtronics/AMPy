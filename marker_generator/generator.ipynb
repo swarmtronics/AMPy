{
 "cells": [
  {
   "cell_type": "code",
   "execution_count": null,
   "id": "fb6781b0",
   "metadata": {},
   "outputs": [],
   "source": [
    "!pip install opencv-contrib-python\n",
    "!pip install moms_apriltag\n",
    "!pip install imutils"
   ]
  },
  {
   "cell_type": "code",
   "execution_count": 3,
   "id": "1a288c70",
   "metadata": {},
   "outputs": [],
   "source": [
    "import numpy as np\n",
    "from moms_apriltag import TagGenerator2\n",
    "import cv2\n",
    "import imutils\n",
    "\n",
    "import argparse\n",
    "import sys\n",
    "from tqdm import tqdm\n",
    "import os"
   ]
  },
  {
   "cell_type": "markdown",
   "id": "feb80ae4",
   "metadata": {},
   "source": [
    "### Preparing ArUco & AprilTag markers"
   ]
  },
  {
   "cell_type": "markdown",
   "id": "a2b9b5ef",
   "metadata": {},
   "source": [
    "Generating ArUco markers is a pretty simple process which require the same version of ```opencv-contrib-python``` that is used with AMPy. For AprilTag, you will need to install the ```moms_apriltag``` and ```imutils``` packages."
   ]
  },
  {
   "cell_type": "code",
   "execution_count": 5,
   "id": "3c0de259",
   "metadata": {},
   "outputs": [],
   "source": [
    "marker_source = 'april' \n",
    "# marker_source = 'aruco'"
   ]
  },
  {
   "cell_type": "code",
   "execution_count": 4,
   "id": "2d7c4f56",
   "metadata": {},
   "outputs": [
    {
     "name": "stderr",
     "output_type": "stream",
     "text": [
      "100%|████████████████████████████████████████████████████████████████████████████████| 100/100 [00:03<00:00, 30.76it/s]\n"
     ]
    }
   ],
   "source": [
    "ARUCO_DICT = {\n",
    "\t\"DICT_4X4_50\": cv2.aruco.DICT_4X4_50,\n",
    "\t\"DICT_4X4_100\": cv2.aruco.DICT_4X4_100,\n",
    "\t\"DICT_4X4_250\": cv2.aruco.DICT_4X4_250,\n",
    "\t\"DICT_4X4_1000\": cv2.aruco.DICT_4X4_1000,\n",
    "\t\"DICT_5X5_50\": cv2.aruco.DICT_5X5_50,\n",
    "\t\"DICT_5X5_100\": cv2.aruco.DICT_5X5_100,\n",
    "\t\"DICT_5X5_250\": cv2.aruco.DICT_5X5_250,\n",
    "\t\"DICT_5X5_1000\": cv2.aruco.DICT_5X5_1000,\n",
    "\t\"DICT_6X6_50\": cv2.aruco.DICT_6X6_50,\n",
    "\t\"DICT_6X6_100\": cv2.aruco.DICT_6X6_100,\n",
    "\t\"DICT_6X6_250\": cv2.aruco.DICT_6X6_250,\n",
    "\t\"DICT_6X6_1000\": cv2.aruco.DICT_6X6_1000,\n",
    "\t\"DICT_7X7_50\": cv2.aruco.DICT_7X7_50,\n",
    "\t\"DICT_7X7_100\": cv2.aruco.DICT_7X7_100,\n",
    "\t\"DICT_7X7_250\": cv2.aruco.DICT_7X7_250,\n",
    "\t\"DICT_7X7_1000\": cv2.aruco.DICT_7X7_1000,\n",
    "\t\"DICT_ARUCO_ORIGINAL\": cv2.aruco.DICT_ARUCO_ORIGINAL,\n",
    "\t\"DICT_APRILTAG_16h5\": cv2.aruco.DICT_APRILTAG_16h5,\n",
    "\t\"DICT_APRILTAG_25h9\": cv2.aruco.DICT_APRILTAG_25h9,\n",
    "\t\"DICT_APRILTAG_36h10\": cv2.aruco.DICT_APRILTAG_36h10,\n",
    "\t\"DICT_APRILTAG_36h11\": cv2.aruco.DICT_APRILTAG_36h11\n",
    "}\n",
    "tg = TagGenerator2('tag36h11')\n",
    "\n",
    "# general parameters\n",
    "output_dir = \"markers/\"\n",
    "serial_literal = \"A\"\n",
    "markers_number = 100\n",
    "\n",
    "# marker properties\n",
    "marker_type = \"DICT_7X7_1000\" # for borders you can specify another type to decrease error chance\n",
    "top_margin, bottom_margin = 50, 50\n",
    "dsize = (350, 473) # final size of the exported marker\n",
    "font = cv2.FONT_HERSHEY_DUPLEX\n",
    "fontScale = 1.5\n",
    "\n",
    "# list with processed tags applied in further manipulations\n",
    "markers_aruco = []\n",
    "\n",
    "try:\n",
    "    os.mkdir(marker_source + '_' + output_dir)\n",
    "except:\n",
    "    pass\n",
    "\n",
    "for marker_id in tqdm(range(markers_number)):\n",
    "    \n",
    "    # create a marker\n",
    "    arucoDict = cv2.aruco.Dictionary_get(ARUCO_DICT[marker_type])\n",
    "    \n",
    "    if marker_source== 'aruco':\n",
    "        tag = np.zeros((300, 300, 1), dtype=\"uint8\")\n",
    "        cv2.aruco.drawMarker(arucoDict, marker_id, 300, tag, 1)\n",
    "        print(tag.shape)\n",
    "    if marker_source == 'april':\n",
    "        tag = tg.generate(marker_id)\n",
    "        tag = imutils.resize(tag, width=300)[:, :, None]\n",
    "        \n",
    "    \n",
    "\n",
    "    # add top space for a text\n",
    "    for i in range(top_margin):\n",
    "        tag = np.r_[np.array([[[255] for i in range(300)]]).T, tag]\n",
    "\n",
    "    # add bottom space (optional)\n",
    "    for i in range(bottom_margin):\n",
    "        tag = np.r_[tag, np.array([[[255] for i in range(300)]]).T]\n",
    "\n",
    "    # left border line \n",
    "    for i in range(3):\n",
    "        tag = np.r_[np.array([[[0] for i in range(300)]]).T, tag]\n",
    "    \n",
    "    # right border line\n",
    "    for i in range(3):\n",
    "        tag = np.r_[tag, np.array([[[0] for i in range(300)]]).T]    \n",
    "    \n",
    "    # top border line\n",
    "    for i in range(3):\n",
    "        for j in range(len(tag)):\n",
    "            tag[j][i][0] = 0\n",
    "\n",
    "    # resize the marker to fit a printing page\n",
    "    tag = cv2.resize(tag.astype('float32'), dsize)\n",
    "    \n",
    "    # insert a label in the center of the top space\n",
    "    text = serial_literal + str(marker_id)\n",
    "    textsize = cv2.getTextSize(text, font, fontScale, 2)[0]\n",
    "    textX = (tag.shape[1] - textsize[0]) / 2\n",
    "    org, color, thickness = (int(textX) , 46), (0, 0, 0), 3\n",
    "    image = cv2.putText(cv2.UMat(tag), text, org, font,fontScale, color, thickness, cv2.LINE_AA)\n",
    "    \n",
    "    markers_aruco.append(image)\n",
    "    \n",
    "    cv2.imwrite(marker_source + '_' + output_dir + serial_literal + str(marker_id) + \".jpg\", image)"
   ]
  }
 ],
 "metadata": {
  "kernelspec": {
   "display_name": "Python 3 (ipykernel)",
   "language": "python",
   "name": "python3"
  },
  "language_info": {
   "codemirror_mode": {
    "name": "ipython",
    "version": 3
   },
   "file_extension": ".py",
   "mimetype": "text/x-python",
   "name": "python",
   "nbconvert_exporter": "python",
   "pygments_lexer": "ipython3",
   "version": "3.10.9"
  }
 },
 "nbformat": 4,
 "nbformat_minor": 5
}
